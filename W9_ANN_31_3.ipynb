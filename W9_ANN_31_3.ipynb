{
  "nbformat": 4,
  "nbformat_minor": 0,
  "metadata": {
    "colab": {
      "provenance": []
    },
    "kernelspec": {
      "name": "python3",
      "display_name": "Python 3"
    },
    "language_info": {
      "name": "python"
    }
  },
  "cells": [
    {
      "cell_type": "code",
      "execution_count": null,
      "metadata": {
        "id": "jpohxkCpOgsS"
      },
      "outputs": [],
      "source": [
        "from keras.datasets import mnist\n",
        "(train_images,train_labels),(test_images,test_labels)=mnist.load_data()"
      ]
    },
    {
      "cell_type": "code",
      "source": [
        "train_images.shape\n",
        "test_images.shape"
      ],
      "metadata": {
        "colab": {
          "base_uri": "https://localhost:8080/"
        },
        "id": "tPTSBYL0Xnl0",
        "outputId": "e95f65e9-3a50-4c48-bbb8-7e668520f202"
      },
      "execution_count": null,
      "outputs": [
        {
          "output_type": "execute_result",
          "data": {
            "text/plain": [
              "(10000, 28, 28)"
            ]
          },
          "metadata": {},
          "execution_count": 25
        }
      ]
    },
    {
      "cell_type": "code",
      "source": [
        "from numpy import show_config\n",
        "import matplotlib.pyplot as plt\n",
        "digit=train_images[1111]\n",
        "plt.imshow(digit,cmap=plt.cm.binary)\n",
        "plt.show()\n",
        "print('Số:',train_labels[1111])"
      ],
      "metadata": {
        "colab": {
          "base_uri": "https://localhost:8080/",
          "height": 447
        },
        "id": "VI9ZSh8eQFCe",
        "outputId": "b10d2941-87eb-42a2-84b5-b14b59edecf2"
      },
      "execution_count": null,
      "outputs": [
        {
          "output_type": "display_data",
          "data": {
            "text/plain": [
              "<Figure size 640x480 with 1 Axes>"
            ],
            "image/png": "[encoded data removed]"
          },
          "metadata": {}
        },
        {
          "output_type": "stream",
          "name": "stdout",
          "text": [
            "Số: 5\n"
          ]
        }
      ]
    },
    {
      "cell_type": "code",
      "source": [
        "for i in range(15):\n",
        "  plt.subplot(3,5,i+1)\n",
        "  plt.tight_layout()\n",
        "  plt.imshow(train_images[i],cmap='gray',interpolation='none')\n",
        "  plt.title('Số:{}'.format(train_labels[i]))\n",
        "  plt.xticks([])\n",
        "  plt.yticks([])"
      ],
      "metadata": {
        "colab": {
          "base_uri": "https://localhost:8080/",
          "height": 480
        },
        "id": "1xi7Y8PQRaeN",
        "outputId": "d53ccb27-11b4-418f-ac44-1a50b730d29d"
      },
      "execution_count": null,
      "outputs": [
        {
          "output_type": "stream",
          "name": "stderr",
          "text": [
            "<ipython-input-27-a9c1f3202080>:2: MatplotlibDeprecationWarning: Auto-removal of overlapping axes is deprecated since 3.6 and will be removed two minor releases later; explicitly call ax.remove() as needed.\n",
            "  plt.subplot(3,5,i+1)\n"
          ]
        },
        {
          "output_type": "display_data",
          "data": {
            "text/plain": [
              "<Figure size 640x480 with 14 Axes>"
            ],
            "image/png": "[encoded data removed]"
          },
          "metadata": {}
        }
      ]
    },
    {
      "cell_type": "code",
      "source": [
        "from keras.models import Sequential\n",
        "from keras.layers import Dense\n",
        "model=Sequential()\n",
        "model.add(Dense(512,activation='relu',input_shape=(28*28,)))\n",
        "model.add(Dense(10,activation='softmax'))\n",
        "model.summary()\n",
        " "
      ],
      "metadata": {
        "colab": {
          "base_uri": "https://localhost:8080/"
        },
        "id": "6RpU2CbSTjsH",
        "outputId": "5f993384-1201-47a3-c712-9dcb971a0d6a"
      },
      "execution_count": null,
      "outputs": [
        {
          "output_type": "stream",
          "name": "stdout",
          "text": [
            "Model: \"sequential_1\"\n",
            "_________________________________________________________________\n",
            " Layer (type)                Output Shape              Param #   \n",
            "=================================================================\n",
            " dense_2 (Dense)             (None, 512)               401920    \n",
            "                                                                 \n",
            " dense_3 (Dense)             (None, 10)                5130      \n",
            "                                                                 \n",
            "=================================================================\n",
            "Total params: 407,050\n",
            "Trainable params: 407,050\n",
            "Non-trainable params: 0\n",
            "_________________________________________________________________\n"
          ]
        }
      ]
    },
    {
      "cell_type": "code",
      "source": [
        "x=test_images\n",
        "y=test_labels"
      ],
      "metadata": {
        "id": "42L5ECNBWGFo"
      },
      "execution_count": null,
      "outputs": []
    },
    {
      "cell_type": "code",
      "source": [
        "x=test_images\n",
        "y=test_labels\n",
        "train_images=train_images.reshape(60000,28*28)\n",
        "train_images=train_images.astype('float32')/255\n",
        "test_images=test_images.reshape(10000,28*28)\n",
        "test_images=test_images.astype('float32')/255\n",
        "\n"
      ],
      "metadata": {
        "id": "Er8I3xUuWNnW"
      },
      "execution_count": null,
      "outputs": []
    },
    {
      "cell_type": "code",
      "source": [
        "\n",
        "from keras.utils import to_categorical\n",
        "train_labels=to_categorical(train_labels,10)\n",
        "test_labels=to_categorical(test_labels,10)\n",
        "train_labels.shape\n"
      ],
      "metadata": {
        "colab": {
          "base_uri": "https://localhost:8080/"
        },
        "id": "hXZLl-0RYVFw",
        "outputId": "493158b3-fa72-4773-a4ec-20473c936f0f"
      },
      "execution_count": null,
      "outputs": [
        {
          "output_type": "execute_result",
          "data": {
            "text/plain": [
              "(60000, 10)"
            ]
          },
          "metadata": {},
          "execution_count": 31
        }
      ]
    },
    {
      "cell_type": "code",
      "source": [
        "test_labels.shape"
      ],
      "metadata": {
        "colab": {
          "base_uri": "https://localhost:8080/"
        },
        "id": "NwOloyDiZuAI",
        "outputId": "3f835094-28ee-4db2-af46-4b5621e97f6e"
      },
      "execution_count": null,
      "outputs": [
        {
          "output_type": "execute_result",
          "data": {
            "text/plain": [
              "(10000, 10)"
            ]
          },
          "metadata": {},
          "execution_count": 32
        }
      ]
    },
    {
      "cell_type": "code",
      "source": [
        "\n",
        "model.compile(optimizer='rmsprop', loss='categorical_crossentropy', metrics=['accuracy'])\n",
        "model.fit(train_images,train_labels,epochs=10,batch_size=128)\n",
        "test_loss,test_acc=model.evaluate(test_images,test_labels)\n",
        "print('Mất mát:',test_loss)\n",
        "print('Độ chính xác:',test_acc)"
      ],
      "metadata": {
        "colab": {
          "base_uri": "https://localhost:8080/"
        },
        "id": "Qhwo8A7_ZbOv",
        "outputId": "ccdf708d-cbd2-4d4b-85b4-bc2c4eda4809"
      },
      "execution_count": null,
      "outputs": [
        {
          "output_type": "stream",
          "name": "stdout",
          "text": [
            "Epoch 1/10\n",
            "469/469 [==============================] - 5s 9ms/step - loss: 0.2673 - accuracy: 0.9230\n",
            "Epoch 2/10\n",
            "469/469 [==============================] - 4s 9ms/step - loss: 0.1077 - accuracy: 0.9683\n",
            "Epoch 3/10\n",
            "469/469 [==============================] - 5s 11ms/step - loss: 0.0703 - accuracy: 0.9789\n",
            "Epoch 4/10\n",
            "469/469 [==============================] - 4s 9ms/step - loss: 0.0513 - accuracy: 0.9850\n",
            "Epoch 5/10\n",
            "469/469 [==============================] - 4s 9ms/step - loss: 0.0386 - accuracy: 0.9888\n",
            "Epoch 6/10\n",
            "469/469 [==============================] - 5s 11ms/step - loss: 0.0288 - accuracy: 0.9915\n",
            "Epoch 7/10\n",
            "469/469 [==============================] - 4s 9ms/step - loss: 0.0220 - accuracy: 0.9938\n",
            "Epoch 8/10\n",
            "469/469 [==============================] - 4s 9ms/step - loss: 0.0166 - accuracy: 0.9952\n",
            "Epoch 9/10\n",
            "469/469 [==============================] - 5s 11ms/step - loss: 0.0129 - accuracy: 0.9966\n",
            "Epoch 10/10\n",
            "469/469 [==============================] - 4s 9ms/step - loss: 0.0093 - accuracy: 0.9977\n",
            "313/313 [==============================] - 1s 2ms/step - loss: 0.0644 - accuracy: 0.9814\n",
            "Mất mát: 0.0644141137599945\n",
            "Độ chính xác: 0.9814000129699707\n"
          ]
        }
      ]
    },
    {
      "cell_type": "code",
      "source": [
        "from keras.datasets import mnist\n",
        "(train_images,train_labels),(test_images,test_labels)=mnist.load_data()\n",
        "from numpy import show_config\n",
        "import matplotlib.pyplot as plt\n",
        "digit=train_images[100]\n",
        "plt.imshow(digit,cmap=plt.cm.binary)\n",
        "plt.show()\n",
        "print('Số:',train_labels[100])\n",
        "\n"
      ],
      "metadata": {
        "colab": {
          "base_uri": "https://localhost:8080/",
          "height": 447
        },
        "id": "DEQl0cCpdyy5",
        "outputId": "afbf5350-35b4-4a16-efa0-7ec1abf2b564"
      },
      "execution_count": null,
      "outputs": [
        {
          "output_type": "display_data",
          "data": {
            "text/plain": [
              "<Figure size 640x480 with 1 Axes>"
            ],
            "image/png": "[encoded data removed]"
          },
          "metadata": {}
        },
        {
          "output_type": "stream",
          "name": "stdout",
          "text": [
            "Số: 5\n"
          ]
        }
      ]
    },
    {
      "cell_type": "code",
      "source": [
        "import numpy as np\n",
        "x=test_images\n",
        "y=test_labels\n",
        "x_pred=x[100].reshape(1,28*28)\n",
        "x_pred=x_pred.astype(1,28*28)\n",
        "np.argmax(model.predict(x_pred),axis=1)\n",
        "train_images=train_images.reshape(1,28*28)\n",
        "train_images=train_images.astype('float32')/255\n",
        "test_images=test_images.reshape(1,28*28)\n",
        "test_images=test_images.astype('float32')/255\n",
        "print(y_pred)"
      ],
      "metadata": {
        "id": "AqQ03Cgvffue"
      },
      "execution_count": null,
      "outputs": []
    }
  ]
}